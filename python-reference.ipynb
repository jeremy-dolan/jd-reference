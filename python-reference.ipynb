{
 "cells": [
  {
   "attachments": {},
   "cell_type": "markdown",
   "metadata": {},
   "source": [
    "jd's python3 testing/reference notebook  \n",
    "(work in progress!)\n",
    "\n",
    "Quotations not otherwise cited or linked are from the [Python 3\n",
    "documentation](https://docs.python.org/3/), Copyright 2001-2023, Python\n",
    "Software Foundation"
   ]
  },
  {
   "cell_type": "code",
   "execution_count": 22,
   "metadata": {},
   "outputs": [],
   "source": [
    "import locale\n",
    "import warnings\n",
    "import json\n",
    "import re\n",
    "import sys\n",
    "import random"
   ]
  },
  {
   "attachments": {},
   "cell_type": "markdown",
   "metadata": {},
   "source": [
    "# Built-in data types\n",
    "\n",
    "## Overview\n",
    "\n",
    "|                  | type(x)    | x               | notes |\n",
    "| ---------------- | ---------- | --------------- | ----- |\n",
    "| [numbers][num]   | int        | `5`             | dynamically sized; includes all the overhead of any other object in Python (a pointer to its type, number of references...); at minimum, 28 bytes/int (`sys.getsizeof(12345)`); NumPy can avoid this overhead (as can the `array` module?)\n",
    "|                  | float      | `5.0`           | see `sys.float_info` for max value and precision\n",
    "|                  | complex    | `5 + 3j`        | implemented as two floats\n",
    "| numeric sequence | range      | `range(`*start*`,`*stop*`,`*step*`)` | ordered, immutable sequence of integers\n",
    "| text sequence    | str        | `'xyz'`         | ordered, immutable sequence of textual characters\n",
    "| object sequences | tuple      | `('abc', 123)`  | ordered, immutable sequence of objects\n",
    "|                  | list       | `['xyz', 890]`  | ordered, *mutable* sequence of objects\n",
    "| binary sequences | bytes      | `b'Hello'`      | ordered, immutable sequence of bytes (ints 0-255)\n",
    "|                  | bytearray  | `bytearray(`*size*`)`, or<br>`bytearray(`*iterable*`)`, or<br>`bytearray(`*bytes*`)` | ordered, *mutable* sequence of bytes. Arg can specify array size (which will be zero-filled), an iterable of ints to load in, or a `b'bytes'` sequence.<br>Alternatively, `bytearray.fromhex()` can read a string of hex values to create the array.\n",
    "|                  | memoryview | `memoryview(bytes(5))`\n",
    "| mappings         | dict       | `{'a': 1, 'b': 2}` | ordered (fwiw), mutable collection of key:value pairs. keys must be unique, hashable objects; values can be any object [hash table]\n",
    "| sets             | set        | `{1, 2, 3}`     | unordered, mutable collection of unique, hashable objects [hash table]\n",
    "|                  | frozenset  | `frozenset(`*iterable*`)` | unordered, immutable collection of unique, hashable objects [hash table]\n",
    "| booleans         | bool       | `True`          | https://docs.python.org/3/library/stdtypes.html#truth\n",
    "| null             | NoneType   | `None`          | \"There is exactly one null object, named `None`\" (note: automatically returned by functions that don't explicitly return a value)\n",
    "\n",
    "Some classifications:\n",
    "- SEQUENCES (ordered collections of objects accessible with 0-based integer\n",
    "  indices)\n",
    "    - Per spec, sequences must implement both `__getitem__()` and `__len__()`.\n",
    "    - Sequences are therefore both iterable and subscriptable.\n",
    "    - All sequences are [sliceable](#slicing): `range(0,100,10)[2:4]` yields\n",
    "      `range(20, 40, 10)`\n",
    "- HASHABLES (any object which you can call `hash()` on)\n",
    "    - Dictionary keys and set elements must be hashable (because dictionaries\n",
    "      and sets are implemented using a hash table for lookup)\n",
    "    - Built-in immutable objects (*e.g.*, `str`, `int`, `bool`, `bytes`) are\n",
    "      generally hashable\n",
    "    - `frozenset` and `tuple` are also hashable iff they contain only immutable\n",
    "      objects\n",
    "    - Mutable objects (*e.g.*, `list`, `dict`, `set`, `tuple`s containing e.g.,\n",
    "      `list`s) are unhashable.\n",
    "- ITERABLES (objects which can \"return their members one at a time\").\n",
    "    - Generally speaking, there are two ways to implement iterability for an\n",
    "      object: either an `__iter__()` method that returns an *iterator*, or\n",
    "      `__getitem__()` and `__len__()` methods implementing the *sequence\n",
    "      protocol*. Practically speaking, iterables are one of the following:\n",
    "    - sequences (accessible with integer indices *0 .. n*): numeric (`range`),\n",
    "      text (`str`), object (`list`, `tuple`), and binary (`bytes`, `bytearray`,\n",
    "      `memoryview`)\n",
    "    - mappings (accessible with arbitrary, hashable keys): `dict`\n",
    "    - sets: `set`, `frozenset`\n",
    "    - generators: [generator functions](#generators),\n",
    "      [generator expressions](#generator-expressions)\n",
    "    - [file-type objects](#disk) created with `open()`\n",
    "    - bespoke iterable objects:\n",
    "       - users may make custom iterable objects in three ways:\n",
    "       1. \\_\\_iter__/iterators: an `__iter__()` method returns an\n",
    "           [iterator][iterator] object stream. The iterator implements a\n",
    "           `__next__()` method which yields successive objects from the stream\n",
    "           each time it is called, and raises `StopIteration` when no more\n",
    "           objects are available.\n",
    "       2. \\_\\_getitem__/sequence semantics: a `__getitem__()` method which\n",
    "          yields successive members of the iterable for interger indices 0 ..\n",
    "          n, and raises `IndexError` when no more elements are available. (Per\n",
    "          spec, the object must also implement `__len__()`, although this seems\n",
    "          to make no difference in my testing.)\n",
    "       3. sentinal iterators: created out of a regular, callable function and\n",
    "          the built-in `iter` — see\n",
    "          [sentinal iterators](#case-3-sentinal-iterator), below\n",
    "    - See also, the `itertools` module, a toolkit of iterators and building\n",
    "      blocks.\n",
    "- SUBSCRIPTABLES:\n",
    "    - An object is subscriptable if it implements `__getitem__()`.\n",
    "    - Often iterables are subscriptable and vice versa, but not always:\n",
    "        - Sets are iterable, but not subscriptable. So is any user-defined\n",
    "          class which implements an iterator protocol, but not `__getitem__()`.\n",
    "          (See following example.)\n",
    "        - `re.Match` objects are subscriptable, but not iterable. (See\n",
    "          subsequent example.)\n",
    "\n",
    "Types reference: https://docs.python.org/3/library/stdtypes.html\n",
    "\n",
    "[num]: https://docs.python.org/3/library/stdtypes.html#numeric-types-int-float-complex\n",
    "[iterator]: https://docs.python.org/3/glossary.html#term-iterator"
   ]
  },
  {
   "attachments": {},
   "cell_type": "markdown",
   "metadata": {},
   "source": [
    "## Iteratables vs. Subscriptables\n",
    "\n",
    "Some test implementations of iterables/iterators and sequences/subscripting"
   ]
  },
  {
   "attachments": {},
   "cell_type": "markdown",
   "metadata": {},
   "source": [
    "### Case 1: iterator class\n",
    "(also demonstrates adding subscriptability to a class at runtime)\n",
    "\n",
    "In an iterable context, such as:\n",
    " - *iterable\n",
    " - for x in iterable\n",
    " - ...\n",
    " \n",
    "Python calls `__iter__()` on the specified iterable, receives an iterator\n",
    "object back, and then calls `__next__()` on the iterator which returns its\n",
    "members, one at a time:"
   ]
  },
  {
   "cell_type": "code",
   "execution_count": 23,
   "metadata": {},
   "outputs": [
    {
     "name": "stdout",
     "output_type": "stream",
     "text": [
      "The first 15 primes are: 2 3 5 7 11 13 17 19 23 29 31 37 41 43 47\n",
      "Anything left in the iterator?:\n",
      "Anything left in the iterator?: 53 59 61\n",
      "For statement context: 2\n",
      "For statement context: 3\n",
      "Iterable unpacking context: 2 3\n",
      "ERROR: tried to access iterator by index: 'Primes' object is not subscriptable\n",
      "Now we can access our iterator by index values: [prime #4]\n"
     ]
    }
   ],
   "source": [
    "# Primes(n) iterates over the first n primes\n",
    "class Primes():\n",
    "    def __init__(self, max_iters = 10):\n",
    "        self.max_iters = max_iters\n",
    "        self.iterations = 0\n",
    "        self.current_try = 0\n",
    "\n",
    "    def __next__(self):\n",
    "        if self.iterations >= self.max_iters:\n",
    "            raise StopIteration\n",
    "        self.iterations += 1\n",
    "\n",
    "        while True:\n",
    "            self.current_try += 1\n",
    "            if Primes.is_prime(self.current_try):\n",
    "                return self.current_try\n",
    "\n",
    "    def __iter__(self):\n",
    "        # both the container (Primes) and iterator (instances) are required to\n",
    "        # implement __iter__() so that either can be used in, e.g., a for loop\n",
    "        return self\n",
    "\n",
    "    def __len__(self):\n",
    "        return self.max_iters\n",
    "\n",
    "    def is_prime(i:int):\n",
    "        if i <= 1:\n",
    "            return False\n",
    "        for divisor in range(2, (i//2)+1):\n",
    "            if i % divisor == 0:\n",
    "                return False\n",
    "        return True\n",
    "\n",
    "prime_iter = Primes(15)\n",
    "print(f'The first {len(prime_iter)} primes are:', *prime_iter)\n",
    "# our iterator is exhausted; it should continue to raise StopIteration:\n",
    "print(f'Anything left in the iterator?:', *prime_iter)\n",
    "# (Strictly speaking this is a broken iterator, because after\n",
    "prime_iter.iterations = 12\n",
    "# it will no longer continue to return StopIteration, as required by the spec)\n",
    "print(f'Anything left in the iterator?:', *prime_iter)\n",
    "\n",
    "\n",
    "# We can also use Primes() directly in an iterable context,\n",
    "#     without manually creating an iterator:\n",
    "for x in Primes(2):\n",
    "    print(f'For statement context: {x}')\n",
    "print(f'Iterable unpacking context:', *Primes(2))\n",
    "\n",
    "\n",
    "prime_iter2 = Primes(10)\n",
    "# Despite iterator values being ordered, they are not automatically\n",
    "#     accessible by index as a \"sequence\"\n",
    "try:\n",
    "    print(prime_iter2[4])\n",
    "except TypeError as e:\n",
    "    print(f\"ERROR: tried to access iterator by index: {e}\")\n",
    "\n",
    "# Adding a __getitem__() method to Primes allows indexing:\n",
    "def prime_indexer(self, n):\n",
    "    return f'[prime #{n}]'  # toy indexer function\n",
    "Primes.__getitem__ = prime_indexer\n",
    "# inline version:\n",
    "#Primes.__getitem__ = lambda self, n: f'[Prime #{n}]'\n",
    "print(f'Now we can access our iterator by index values: {prime_iter2[4]}')"
   ]
  },
  {
   "attachments": {},
   "cell_type": "markdown",
   "metadata": {},
   "source": [
    "### Case 2: Subscriptable, but not iterable"
   ]
  },
  {
   "cell_type": "code",
   "execution_count": 24,
   "metadata": {},
   "outputs": [
    {
     "name": "stdout",
     "output_type": "stream",
     "text": [
      "re.match returns <re.Match object; span=(0, 11), match='Cats woofed'>\n",
      "Subscriptable: index \"1\" is the first parentheses: woofed\n",
      "Explicit lookup with re.Match.__getitem__(1): woofed\n",
      "Tried to iterate but got TypeError: 're.Match' object is not iterable\n",
      "1: Cats woofed\n",
      "2: woofed\n",
      "Hit the end of the sequence: no such group\n"
     ]
    }
   ],
   "source": [
    "# subscriptable but not iterable case study: re.Match objects\n",
    "m = re.match(r\"\\w+ (\\w+)\", \"Cats woofed, dogs meowed\")\n",
    "print('re.match returns', m)\n",
    "print('Subscriptable: index \"1\" is the first parentheses:', m[1])\n",
    "print('Explicit lookup with re.Match.__getitem__(1):', m.__getitem__(1))\n",
    "try:\n",
    "    for item in m:\n",
    "        print(item)\n",
    "except TypeError as err:\n",
    "    print('Tried to iterate but got TypeError:', err)\n",
    "\n",
    "# it's a mystery to me why Python doesn't fall back to using the sequence\n",
    "# protocol, since __getitem__ is zero-indexed:\n",
    "try:\n",
    "    print('1:', m.__getitem__(0))\n",
    "    print('2:', m.__getitem__(1))\n",
    "    print('3:', m.__getitem__(2))\n",
    "except IndexError as err:\n",
    "     print('Hit the end of the sequence:', err)\n",
    "# (while re.Match objects don't have a __len__(), which is required by the\n",
    "# sequence API, this doesn't seem to matter in my other testing)\n",
    "\n",
    "# note, re.finditer() can be used when an iterator is needed!"
   ]
  },
  {
   "attachments": {},
   "cell_type": "markdown",
   "metadata": {},
   "source": [
    "### Case 3: Sentinal iterator\n",
    "\n",
    "Sentinal iterators can be used to turn a function which doesn't follow the formal iterator protocol into a proper iterator. We provide a function and a \"sentinal value\" to `iter()`, which returns our iterator object. Our iterator will, when iterated on, call the function and yield its return value — unless the function returns the sentinal value, in which case our iterator raises `StopIteration`."
   ]
  },
  {
   "cell_type": "code",
   "execution_count": 48,
   "metadata": {},
   "outputs": [
    {
     "name": "stdout",
     "output_type": "stream",
     "text": [
      "<class 'callable_iterator'>\n",
      "Iteration 1: 0\n",
      "Iteration 2: 1\n",
      "Iteration 3: 3\n",
      "Following iteration 3 we got our sentinal value\n",
      "(StopIteration is raised when sentinal_iter was polled; we don't actually iterate on the sentinal value)\n"
     ]
    }
   ],
   "source": [
    "def random_iterator():\n",
    "    return random.randint(0, 5)\n",
    "\n",
    "sentinal_iter = iter(random_iterator, 5) # new iterator object, with 5 as sentinal value\n",
    "print(type(sentinal_iter))\n",
    "\n",
    "i = 0\n",
    "for num in sentinal_iter:\n",
    "    i += 1\n",
    "    print(f'Iteration {i}: {num}')\n",
    "print(f'Following iteration {i} we got our sentinal value')\n",
    "print(\"(StopIteration is raised when sentinal_iter was polled; we don't actually iterate on the sentinal value)\")\n",
    "\n",
    "# Iterators are supposed to continue to raise StopIteration\n",
    "# Sentinal iterators get this good behavior for free:\n",
    "for num in sentinal_iter:\n",
    "    print(f'Another iteration: {num}') # not printed!"
   ]
  },
  {
   "attachments": {},
   "cell_type": "markdown",
   "metadata": {},
   "source": [
    "### Case 4: Sequence protocol iterator"
   ]
  },
  {
   "cell_type": "code",
   "execution_count": 34,
   "metadata": {},
   "outputs": [
    {
     "name": "stdout",
     "output_type": "stream",
     "text": [
      "<class '__main__.SequenceIteratable'>\n",
      "first\n",
      "last\n",
      "<class 'iterator'>\n",
      "first\n",
      "last\n"
     ]
    }
   ],
   "source": [
    "class SequenceIteratable():\n",
    "    def __getitem__(self, index:int):\n",
    "        match index:\n",
    "            case 0:\n",
    "                return 'first'\n",
    "            case 1:\n",
    "                return 'last'\n",
    "            case _:\n",
    "                raise IndexError\n",
    "    \n",
    "    def __len__(self):\n",
    "        return 2            # len() support isn't needed for the below uses, but\n",
    "                            # is required by the sequence protocol, and is used\n",
    "                            # e.g., for reverse()\n",
    "    \n",
    "sequence_iter = SequenceIteratable()\n",
    "print(type(sequence_iter))\n",
    "for x in sequence_iter:\n",
    "    print(x)\n",
    "\n",
    "# bind the iterator explicitly:\n",
    "sequence_iter2 = iter(SequenceIteratable())\n",
    "print(type(sequence_iter2))\n",
    "for x in sequence_iter2:\n",
    "    print(x)"
   ]
  },
  {
   "attachments": {},
   "cell_type": "markdown",
   "metadata": {},
   "source": [
    "### Coda: iterator types\n",
    "Internally, iterators come in several types, but we typically needn't sweat\n",
    "those details. Here some are, for reference.\n",
    "\n",
    "Note that our custom Prime iterator follows the common practice of using the\n",
    "same object as both iterable and iterator; therefore, the type() of its\n",
    "iterator is just the class itself. Meanwhile, our sentinal iterator has its own\n",
    "internal type."
   ]
  },
  {
   "cell_type": "code",
   "execution_count": 42,
   "metadata": {},
   "outputs": [
    {
     "name": "stdout",
     "output_type": "stream",
     "text": [
      "<class 'tuple_iterator'>\n",
      "<class 'set_iterator'>\n",
      "<class 'dict_keyiterator'>\n",
      "<class 'list_iterator'>\n",
      "<class 'list_iterator'>\n",
      "<class 'generator'>\n",
      "<class 'str_ascii_iterator'>\n",
      "<class 'str_iterator'>\n",
      "<class 'bytes_iterator'>\n",
      "<class 'range_iterator'>\n",
      "<class '_io.TextIOWrapper'>\n",
      "<class '__main__.Primes'>\n",
      "<class 'callable_iterator'>\n",
      "<class 'iterator'>\n",
      "---\n",
      "<class 'tuple_iterator'>\n",
      "Everything from foo: 1 2 3\n",
      "Everything from foo:\n",
      "<class 'reversed'>\n",
      "Reverse iterator: last first\n"
     ]
    }
   ],
   "source": [
    "print(type((1,2).__iter__()))\n",
    "print(type({1,2}.__iter__()))\n",
    "print(type({1:2,3:4}.__iter__()))\n",
    "print(type([1,2].__iter__()))\n",
    "print(type([x for x in (1,)].__iter__()))\n",
    "print(type((x for x in (1,)).__iter__()))\n",
    "print(type('sam'.__iter__()))\n",
    "print(type('s\\xfe5m'.__iter__()))\n",
    "print(type(b'ham'.__iter__()))\n",
    "print(type(range(10).__iter__()))\n",
    "\n",
    "print(type(open('python-reference.ipynb').__iter__())) # go go gadget garbage collection, I hope\n",
    "print(type(prime_iter.__iter__()))\n",
    "print(type(sentinal_iter.__iter__()))\n",
    "print(type(iter(sequence_iter))) # NB: has no __iter__ since it's using sequence protocol for iteration\n",
    "\n",
    "print('---')\n",
    "\n",
    "foo = iter((1,2,3))\n",
    "print(type(foo))\n",
    "print('Everything from foo:', *foo)\n",
    "print('Everything from foo:', *foo) # foo was exhausted during first unpacking\n",
    "\n",
    "rev = reversed(sequence_iter)\n",
    "print(type(rev))\n",
    "print('Reverse iterator:', *rev)\n"
   ]
  },
  {
   "attachments": {},
   "cell_type": "markdown",
   "metadata": {},
   "source": [
    "-------------------------------------------------------------------------------\n",
    "\n",
    "# Expressions\n",
    "\n",
    "An [expression](https://docs.python.org/3/reference/expressions.html) is a\n",
    "syntactic entity which evaluates to ('yields'/'returns') a value. \n",
    "* atomic expressions:\n",
    "    * names: `name` (return the value pointed to by name)\n",
    "    * literals: `42`, `'foo'` (return themselves)\n",
    "    * enclosures:\n",
    "        * parenthesized expression: `(0)` --> `0`\n",
    "        * parenthesized tuples: empty pairs of parentheses `()` or parentheses\n",
    "          containing at least one comma return tuples: `(0,)` --> `(0,)`\n",
    "        * lists, sets, dicts (with contents either explicitly listed, or\n",
    "          computed via a [comprehension](#list-comprehensions)): return a new\n",
    "          list/set/dict\n",
    "        * [generator expessions](#generator-expressions):\n",
    "          `(x**2 for x in range(10))`: returns a new generator object\n",
    "        * `yield` expressions in generator functions\n",
    "* primary expressions: (\"the most tightly bound operations of the language\")\n",
    "    * attribute refereces: `name.attribute`\n",
    "    * subscription: `container_name[subscript1, subscript2 ...]`\n",
    "    * slicings: `sequence_name[index1, index2...]`,\n",
    "      `sequence_name[start:stop:stride]`\n",
    "    * calls: `callable_name(arg1, arg2, arg3='...')` (functions, built-ins,\n",
    "      methods, classes)\n",
    "* unary/binary mathematical/bitwise operator expressions: `1 + 2` or `~bytes` or\n",
    "  `\"string\" + \"addenda\"`. See [Operators](#Operators) below.\n",
    "* comparisons and membership tests: `a < b` or `c not in d`. Yield `True` or\n",
    "  `False`. See [Comparison operators](#comparison-operators) below.\n",
    "* boolean negation expressions: `not x` (returns `True` if x is false, `False`\n",
    "  otherwise)\n",
    "* boolean conjuction expressions: `x and y` (returns `x` if x is false, `y`\n",
    "  otherwise)\n",
    "* boolean disjunction expressions: `x or y` (returns `x` if x is true, `y`\n",
    "  otherwise)\n",
    "* assignment expressions: whereas assignment (`x = y`) is a statement that\n",
    "    yields no value, assignment expressions using the \"walrus\" operator `:=`\n",
    "    both yield and assign an expression (`x := y` returns `y`, in addition to\n",
    "    assigning it)\n",
    "* conditional expressions (aka ternary operator) `x if condition else y`\n",
    "  (returns either `x` or `y`)\n",
    "* lambda expressions: `lambda x: x**2` (returns a function object)\n",
    "* `await` expressions in asynchronous coroutine functions\n",
    "\n",
    "\"Note: neither `and` nor `or` restrict the value and type they return to\n",
    "False and True, but rather return the last evaluated argument. This is\n",
    "sometimes useful, e.g., if `s` is a string that should be replaced by a default\n",
    "value if it is empty, the expression `s or 'foo'` yields the desired value.\""
   ]
  },
  {
   "cell_type": "code",
   "execution_count": 7,
   "metadata": {},
   "outputs": [
    {
     "name": "stdout",
     "output_type": "stream",
     "text": [
      "<generator object testgen at 0x10ec17d70>\n",
      "<generator object <genexpr> at 0x10eea86c0>\n"
     ]
    }
   ],
   "source": [
    "def testgen():\n",
    "    yield None\n",
    "\n",
    "print(testgen())\n",
    "print(x for x in range(0))"
   ]
  },
  {
   "attachments": {},
   "cell_type": "markdown",
   "metadata": {},
   "source": [
    "## Operators\n",
    "\n",
    "Operator precedence:\n",
    "<https://docs.python.org/3/reference/expressions.html#operator-precedence>"
   ]
  },
  {
   "attachments": {},
   "cell_type": "markdown",
   "metadata": {},
   "source": [
    "### Mathematical and bitwise operators"
   ]
  },
  {
   "cell_type": "code",
   "execution_count": 17,
   "metadata": {},
   "outputs": [
    {
     "data": {
      "text/plain": [
       "-2"
      ]
     },
     "execution_count": 17,
     "metadata": {},
     "output_type": "execute_result"
    }
   ],
   "source": [
    "a = b = 1   # (int implements all of these)\n",
    "\n",
    "# Mathematical operators\n",
    "a + b  #Add\n",
    "a - b  #Sub\n",
    "a * b  #Mult\n",
    "a / b  #Div\n",
    "a // b #FloorDiv\n",
    "a ** b #Power\n",
    "a % b  #Mod\n",
    "#c @ d #matrix multiply (no builtin types have __matmul__ method, cf. NumPy)\n",
    "+a     #unary Add: a.__pos__(), generally no effect on value\n",
    "-a     #unary Sub: a.__neg__(), generally inverts sign\n",
    "\n",
    "# Bitwise operators\n",
    "a & b  # bitwise AND           turn off k'th bit: n & ~(1 << (k-1))\n",
    "a | b  # bitwise OR             turn on k'th bit: n | (1 << (k-1))\n",
    "a ^ b  # bitwise XOR               flip k'th bit: n ^ (1 << (k-1))\n",
    "a << b # left shift\n",
    "a >> b # right shift\n",
    "~a     # unary bitwise NOT (invert)"
   ]
  },
  {
   "attachments": {},
   "cell_type": "markdown",
   "metadata": {},
   "source": [
    "### Comparison operators\n",
    "\n",
    "These all yield `True` or `False`, unless the corresponding dunder method for\n",
    "the object has been changed to return something fancier."
   ]
  },
  {
   "cell_type": "code",
   "execution_count": 9,
   "metadata": {},
   "outputs": [],
   "source": [
    "a = b = ''   # (str implements all of these)\n",
    "\n",
    "# value comparisons\n",
    "a < b   # a.__lt__(b)\n",
    "a > b   # a.__gt__(b)\n",
    "a <= b  # a.__le__(b)\n",
    "a >= b  # a.__ge__(b)\n",
    "a == b  # a.__eq__(b)\n",
    "a != b  # a.__ne__(b)\n",
    "\n",
    "# identity comparisons\n",
    "a is b      # these use id() to test if a and b are the same object\n",
    "a is not b  #   https://docs.python.org/3/library/functions.html#id\n",
    "\n",
    "# membership tests\n",
    "a in b      # a.__contains__(b), falling back to __iter__(), then __getitem__()\n",
    "a not in b; #   https://docs.python.org/3/reference/expressions.html#comparisons"
   ]
  },
  {
   "cell_type": "markdown",
   "metadata": {},
   "source": [
    "#### Chained comparison\n",
    "\n",
    "For more concise and readable code, comparison operators can be chained"
   ]
  },
  {
   "cell_type": "code",
   "execution_count": 14,
   "metadata": {},
   "outputs": [
    {
     "data": {
      "text/plain": [
       "True"
      ]
     },
     "execution_count": 14,
     "metadata": {},
     "output_type": "execute_result"
    }
   ],
   "source": [
    "5 < 10 <= 10 == 10 != 5\n",
    "# evaluated as: (5 < 10) and (10 <= 10) and (10 == 10) and (10 != 5)"
   ]
  },
  {
   "cell_type": "markdown",
   "metadata": {},
   "source": [
    "### Boolean logic operators\n",
    "\n",
    "TODO: document how non-bools interact with the boolean operators, e.g., type(0 and 1) -> int"
   ]
  },
  {
   "cell_type": "code",
   "execution_count": 16,
   "metadata": {},
   "outputs": [
    {
     "name": "stdout",
     "output_type": "stream",
     "text": [
      "False\n",
      "False\n",
      "True\n"
     ]
    }
   ],
   "source": [
    "a = True\n",
    "b = False\n",
    "\n",
    "print(not a)\n",
    "print(a and b)\n",
    "print(a or b)"
   ]
  },
  {
   "attachments": {},
   "cell_type": "markdown",
   "metadata": {},
   "source": [
    "### Walrus operator\n",
    "\n",
    "Assignment *expressions* use the walrus `:=` operator to both yield and assign\n",
    "the value of an expression. (This is how assignment works by default in C, for\n",
    "example.)\n",
    "\n",
    "For regular assignment, see\n",
    "[assignment statements](#assignment-statements), below."
   ]
  },
  {
   "cell_type": "code",
   "execution_count": 10,
   "metadata": {},
   "outputs": [
    {
     "name": "stdout",
     "output_type": "stream",
     "text": [
      "oooooooo\n",
      "oooooooo\n"
     ]
    }
   ],
   "source": [
    "if (match := re.search('f(o+)b', 'foooooooobar')):\n",
    "    print(match.group(1))\n",
    "\n",
    "# is the same as:\n",
    "\n",
    "match = re.search('f(o+)b', 'foooooooobar')\n",
    "if match:\n",
    "    print(match.group(1))\n",
    "\n",
    "# especially useful in a long if .. elif chain"
   ]
  },
  {
   "attachments": {},
   "cell_type": "markdown",
   "metadata": {
    "tags": [
     "testing tags"
    ]
   },
   "source": [
    "-------------------------------------------------------------------------------\n",
    "\n",
    "# Statements\n",
    "\n",
    "A statement is a syntactic entity which can be executed. (Roughly, statements\n",
    "are actions or commands.) Statements may or may not return a value.\n",
    "\n",
    "  * simple statements (comprise only a single line):\n",
    "      * *expression statements*: expressions used on their own, rather than as\n",
    "        part of a larger statement. Most expressions are not useful on their\n",
    "        own (`1+1`). Sometimes, however, expressions cause desired side\n",
    "        effects: e.g., `print()` (an expression which evaluates to None) is\n",
    "        used on its own for its \"side effect\" of printing to the terminal.\n",
    "      * *assignment statements*: `name = expression()` (bind a name to a value)\n",
    "      * `del` statements\n",
    "      * `import`\n",
    "      * `break`, `continue`\n",
    "      * `pass` statements: \"when a statement is required syntactically, but no\n",
    "        code needs to be executed\"\n",
    "      * `return`, `yield`\n",
    "      * `raise`, `assert`\n",
    "      * `nonlocal`, `global` scope statements\n",
    "  * complex statements\n",
    "    * `if` statement\n",
    "    * `for` and `while` loops\n",
    "    * `with` statements (and context managers)\n",
    "    * ...\n"
   ]
  },
  {
   "attachments": {},
   "cell_type": "markdown",
   "metadata": {},
   "source": [
    "## Assignment statements"
   ]
  },
  {
   "cell_type": "code",
   "execution_count": 11,
   "metadata": {},
   "outputs": [
    {
     "name": "stdout",
     "output_type": "stream",
     "text": [
      "[3, 4, 5, 6, 7, 8]\n",
      "5   <class 'int'>\n",
      "4   <class 'int'>\n",
      "8   <class 'int'>\n",
      "4.0 <class 'float'>\n",
      "4   <class 'int'>\n",
      "1   <class 'int'>\n"
     ]
    }
   ],
   "source": [
    "# assignment\n",
    "a = 1                     # bind target name 'a' to value 'int(1)'\n",
    "a = b = c = 1             # chain assignment, bind multiple names to the same object\n",
    "a, b, c = 1, 2, 3         # tuple unpacking before binding: a == int(1)\n",
    "foo = 1, 2, 3             # implicit grouping as tuple: foo == tuple(1, 2, 3)\n",
    "d, e, *f, g = range(1,10) # (PEP 3132): a 'starred' target is greedy:\n",
    "print(f)                  # [3, 4, 5, 6, 7, 8]\n",
    "\n"
   ]
  },
  {
   "cell_type": "code",
   "execution_count": null,
   "metadata": {},
   "outputs": [],
   "source": [
    "# augmented assignment (plus type coercion demo)\n",
    "c += 2;     print(str(c).ljust(3), type(c))  # 5\n",
    "c -= 1;     print(str(c).ljust(3), type(c))  # 4\n",
    "c *= 2;     print(str(c).ljust(3), type(c))  # 8\n",
    "c /= 2;     print(str(c).ljust(3), type(c))  # 4.0 - type coercion\n",
    "c = int(c); print(str(c).ljust(3), type(c))  # 4\n",
    "c //= 3;    print(str(c).ljust(3), type(c))  # 1 - floor division, no type coercion\n",
    "\n",
    "# full list, from the parser:\n",
    "#     +=    -=    *=    /=    //=\n",
    "#     %=    **=   @=\n",
    "#     &=    |=    ^=    <<=   >>="
   ]
  },
  {
   "cell_type": "markdown",
   "metadata": {},
   "source": [
    "# Data types and common methods"
   ]
  },
  {
   "cell_type": "markdown",
   "metadata": {},
   "source": [
    "## Number types (int, float, complex)"
   ]
  },
  {
   "cell_type": "code",
   "execution_count": 3,
   "metadata": {},
   "outputs": [
    {
     "name": "stdout",
     "output_type": "stream",
     "text": [
      "1,000,000\n",
      "1_000_000\n",
      "<class 'int'> OverflowError converting int to str when digits ≥ 4300\n",
      "<class 'float'> (9, 2) 4.5 False 1.7976931348623157e+308\n",
      "<class 'complex'> 3.0 4.0 (3-4j) (1+0j)\n"
     ]
    }
   ],
   "source": [
    "# int\n",
    "i = 1_000_000        # underscores are ignored to allow for grouping\n",
    "print(f'{i:,}')      # output with comma grouping\n",
    "print(f'{i:_}')      # ...underscore grouping\n",
    "print(type(i), 'OverflowError converting int to str when digits ≥', sys.int_info.default_max_str_digits)\n",
    "\n",
    "# float\n",
    "f = 4.5\n",
    "print(type(f), f.as_integer_ratio(), f.conjugate(), f.is_integer(), sys.float_info.max)\n",
    "\n",
    "# complex\n",
    "c = 3+4j\n",
    "print(type(c), c.real, c.imag, c.conjugate(), c/c)"
   ]
  },
  {
   "cell_type": "markdown",
   "metadata": {},
   "source": [
    "### Alternate bases"
   ]
  },
  {
   "cell_type": "code",
   "execution_count": 50,
   "metadata": {},
   "outputs": [
    {
     "name": "stdout",
     "output_type": "stream",
     "text": [
      "5\n",
      "5\n",
      "0b101\n",
      "5\n",
      "5 requires 3 bits; 2 bits are 'on'\n"
     ]
    }
   ],
   "source": [
    "x = 5\n",
    "\n",
    "# binary\n",
    "print(0b101)               # int specified in binary\n",
    "print(int(\"101\", 2))       # turn a string in base n=2 into an int\n",
    "print(bin(5))              # turn an integer value into a string of its binary representation\n",
    "print(int(bin(5), 2))      # (inverse functions)\n",
    "print(f\"{x} requires {x.bit_length()} bits; {x.bit_count()} bits are 'on'\")"
   ]
  },
  {
   "cell_type": "markdown",
   "metadata": {},
   "source": [
    "## Binary sequence types (bytes, bytearrray)"
   ]
  },
  {
   "cell_type": "code",
   "execution_count": 17,
   "metadata": {},
   "outputs": [
    {
     "name": "stdout",
     "output_type": "stream",
     "text": [
      "--Bytes--\n",
      "<class 'bytes'> b'Hello'\n",
      "<class 'bytes'> b'H'\n",
      "<class 'int'> 72\n",
      "Tried to modify bytes but 'bytes' object does not support item assignment.\n",
      "b'Hello' 72 101 108 108 111\n",
      "\n",
      "--Bytearray--\n",
      "<class 'bytearray'> bytearray(b'Hello')\n",
      "<class 'bytearray'> bytearray(b'H')\n",
      "<class 'int'> 72\n",
      "bytearray(b'Hemlo') 72 101 109 108 111\n",
      "\n",
      "--Character value comparison--\n",
      "H: 72 72 72\n"
     ]
    }
   ],
   "source": [
    "print('--Bytes--')\n",
    "foo = b'Hello'\n",
    "print(type(foo), foo)\n",
    "print(type(foo[0:1]), foo[0:1])     # access via slice -> bytes\n",
    "print(type(foo[0]), foo[0])         # access via index -> int\n",
    "try:                                # immutable\n",
    "    foo[2] += 1\n",
    "except TypeError as e:\n",
    "    print(f'Tried to modify bytes but {e}.')\n",
    "print(foo, *(foo[c] for c in range(len(foo))))\n",
    "\n",
    "print('\\n--Bytearray--')\n",
    "bar = bytearray(b'Hello')\n",
    "bar = bytearray.fromhex('48 65 6c 6c 6f')   # equivalent\n",
    "print(type(bar), bar)\n",
    "print(type(bar[0:1]), bar[0:1])     # access via slice -> bytearray\n",
    "print(type(bar[0]), bar[0])         # access via index -> int\n",
    "bar[2] += 1                         # mutable\n",
    "print(bar, *(bar[c] for c in range(len(bar))))\n",
    "\n",
    "print('\\n--Character value comparison--')\n",
    "# When working with ASCII text as a bytes/bytearray, taking indicies of those\n",
    "# sequences will in effect give us the ASCII value (Unicode code point) of the\n",
    "# 'character' (since it's stored as an unencoded byte).\n",
    "# With strings, we need to use ord() to yield the Unicode code point:\n",
    "print('H:',\n",
    "      ord('Hello'[0]),\n",
    "      b'Hello'[0],\n",
    "      bytearray(b'Hello')[0])"
   ]
  }
 ],
 "metadata": {
  "kernelspec": {
   "display_name": "Python 3",
   "language": "python",
   "name": "python3"
  },
  "language_info": {
   "codemirror_mode": {
    "name": "ipython",
    "version": 3
   },
   "file_extension": ".py",
   "mimetype": "text/x-python",
   "name": "python",
   "nbconvert_exporter": "python",
   "pygments_lexer": "ipython3",
   "version": "3.11.2"
  },
  "orig_nbformat": 4
 },
 "nbformat": 4,
 "nbformat_minor": 2
}
