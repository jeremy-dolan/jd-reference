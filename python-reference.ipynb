{
 "cells": [
  {
   "attachments": {},
   "cell_type": "markdown",
   "metadata": {},
   "source": [
    "jd's python3 testing/reference notebook  \n",
    "(work in progress!)\n",
    "\n",
    "Quotations not otherwise cited or linked are from the [Python 3\n",
    "documentation](https://docs.python.org/3/), Copyright 2001-2023, Python\n",
    "Software Foundation"
   ]
  },
  {
   "cell_type": "code",
   "execution_count": 1,
   "metadata": {},
   "outputs": [],
   "source": [
    "import locale\n",
    "import warnings\n",
    "import json\n",
    "import re\n",
    "import sys\n",
    "import random"
   ]
  },
  {
   "attachments": {},
   "cell_type": "markdown",
   "metadata": {},
   "source": [
    "# Built-in data types\n",
    "\n",
    "## Overview\n",
    "\n",
    "|                  | type(x)    | x               | notes |\n",
    "| ---------------- | ---------- | --------------- | ----- |\n",
    "| [numbers][num]   | int        | `5`             | dynamically sized; includes all the overhead of any other object in Python (a pointer to its type, number of references...); at minimum, 28 bytes/int (`sys.getsizeof(12345)`); NumPy can avoid this overhead (as can the `array` module?)\n",
    "|                  | float      | `5.0`           | see `sys.float_info` for max value and precision\n",
    "|                  | complex    | `5 + 3j`        | implemented as two floats\n",
    "| numeric sequence | range      | `range(`*start*`,`*stop*`,`*step*`)` | ordered, immutable sequence of integers\n",
    "| text sequence    | str        | `'xyz'`         | ordered, immutable sequence of textual characters\n",
    "| object sequences | tuple      | `('abc', 123)`  | ordered, immutable sequence of objects\n",
    "|                  | list       | `['xyz', 890]`  | ordered, *mutable* sequence of objects\n",
    "| binary sequences | bytes      | `b'Hello'`      | ordered, immutable sequence of bytes (ints 0-255)\n",
    "|                  | bytearray  | `bytearray(`*size*`)`, or<br>`bytearray(`*iterable*`)`, or<br>`bytearray(`*bytes*`)` | ordered, *mutable* sequence of bytes. Arg can specify array size (which will be zero-filled), an iterable of ints to load in, or a `b'bytes'` sequence.<br>Alternatively, `bytearray.fromhex()` can read a string of hex values to create the array.\n",
    "|                  | memoryview | `memoryview(bytes(5))`\n",
    "| mappings         | dict       | `{'a': 1, 'b': 2}` | ordered (fwiw), mutable collection of key:value pairs. keys must be unique, hashable objects; values can be any object [hash table]\n",
    "| sets             | set        | `{1, 2, 3}`     | unordered, mutable collection of unique, hashable objects [hash table]\n",
    "|                  | frozenset  | `frozenset(`*iterable*`)` | unordered, immutable collection of unique, hashable objects [hash table]\n",
    "| booleans         | bool       | `True`          | https://docs.python.org/3/library/stdtypes.html#truth\n",
    "| null             | NoneType   | `None`          | \"There is exactly one null object, named `None`\" (note: automatically returned by functions that don't explicitly return a value)\n",
    "\n",
    "Some classifications:\n",
    "- SEQUENCES (ordered collections of objects accessible with 0-based integer\n",
    "  indices)\n",
    "    - Per spec, sequences must implement both `__getitem__()` and `__len__()`.\n",
    "    - Sequences are therefore both iterable and subscriptable.\n",
    "    - All sequences are [sliceable](#slicing): `range(0,100,10)[2:4]` yields\n",
    "      `range(20, 40, 10)`\n",
    "- HASHABLES (any object which you can call `hash()` on)\n",
    "    - Dictionary keys and set elements must be hashable (because dictionaries\n",
    "      and sets are implemented using a hash table for lookup)\n",
    "    - Built-in immutable objects (*e.g.*, `str`, `int`, `bool`, `bytes`) are\n",
    "      generally hashable\n",
    "    - `frozenset` and `tuple` are also hashable iff they contain only immutable\n",
    "      objects\n",
    "    - Mutable objects (*e.g.*, `list`, `dict`, `set`, `tuple`s containing e.g.,\n",
    "      `list`s) are unhashable.\n",
    "- ITERABLES (objects which can \"return their members one at a time\").\n",
    "    - Generally speaking, there are two ways to implement iterability for an\n",
    "      object: either an `__iter__()` method that returns an *iterator*, or\n",
    "      `__getitem__()` and `__len__()` methods implementing the *sequence\n",
    "      protocol*. Practically speaking, iterables are one of the following:\n",
    "    - sequences (accessible with integer indices *0 .. n*): numeric (`range`),\n",
    "      text (`str`), object (`list`, `tuple`), and binary (`bytes`, `bytearray`,\n",
    "      `memoryview`)\n",
    "    - mappings (accessible with arbitrary, hashable keys): `dict`\n",
    "    - sets: `set`, `frozenset`\n",
    "    - generators: [generator functions](#generators),\n",
    "      [generator expressions](#generator-expressions)\n",
    "    - [file-type objects](#disk) created with `open()`\n",
    "    - bespoke iterable objects:\n",
    "       - users may make custom iterable objects in three ways:\n",
    "       1. \\_\\_iter__/iterators: an `__iter__()` method returns an\n",
    "           [iterator][iterator] object stream. The iterator implements a\n",
    "           `__next__()` method which yields successive objects from the stream\n",
    "           each time it is called, and raises `StopIteration` when no more\n",
    "           objects are available.\n",
    "       2. \\_\\_getitem__/sequence semantics: a `__getitem__()` method which\n",
    "          yields successive members of the iterable for interger indices 0 ..\n",
    "          n, and raises `IndexError` when no more elements are available. (Per\n",
    "          spec, the object must also implement `__len__()`, although this seems\n",
    "          to make no difference in my testing.)\n",
    "       3. sentinal iterators: created out of a regular, callable function and\n",
    "          the built-in `iter` — see\n",
    "          [sentinal iterators](#case-3-sentinal-iterator), below\n",
    "    - See also, the `itertools` module, a toolkit of iterators and building\n",
    "      blocks.\n",
    "- SUBSCRIPTABLES:\n",
    "    - An object is subscriptable if it implements `__getitem__()`.\n",
    "    - Often iterables are subscriptable and vice versa, but not always:\n",
    "        - Sets are iterable, but not subscriptable. So is any user-defined\n",
    "          class which implements an iterator protocol, but not `__getitem__()`.\n",
    "          (See following example.)\n",
    "        - `re.Match` objects are subscriptable, but not iterable. (See\n",
    "          subsequent example.)\n",
    "\n",
    "Types reference: https://docs.python.org/3/library/stdtypes.html\n",
    "\n",
    "[num]: https://docs.python.org/3/library/stdtypes.html#numeric-types-int-float-complex\n",
    "[iterator]: https://docs.python.org/3/glossary.html#term-iterator"
   ]
  },
  {
   "attachments": {},
   "cell_type": "markdown",
   "metadata": {},
   "source": [
    "## Iteratables vs. Subscriptables\n",
    "\n",
    "Some test implementations of different types of iterables/iterators and sequences/subscripting"
   ]
  },
  {
   "attachments": {},
   "cell_type": "markdown",
   "metadata": {},
   "source": [
    "### Case study: Primes iterator\n",
    "\n",
    "In an iterable context (*e.g.* `for x in iterable`, `*iterable`,\n",
    "comprehensions, generator expressions, `any()`/`all()`, `min()`/`max()`,\n",
    "`sum()`...), Python calls `__iter__()` on a specified iterable, receives an\n",
    "iterator object back, and then calls successively calls `__next__()` on the\n",
    "iterator which returns its members, one at a time. We can create a custom\n",
    "iterator by defining a class that implements these two methods.\n",
    "\n",
    "This example also demonstrates adding subscriptability (via `__getitem__`) to\n",
    "a class at runtime."
   ]
  },
  {
   "cell_type": "code",
   "execution_count": 183,
   "metadata": {},
   "outputs": [],
   "source": [
    "class Primes():\n",
    "    \"\"\"Iterator yielding prime numbers. Optional parameters:\n",
    "           max_primes=n: stop iteration after finding the n-th prime\n",
    "           max_value=v: stop iteration after searching up through v\"\"\"\n",
    "    def __init__(self, max_primes = float('inf'), max_value = float('inf')):\n",
    "        self.max_primes = max_primes\n",
    "        self.max_value = max_value\n",
    "        self.primes = []\n",
    "\n",
    "    def __next__(self):\n",
    "        if len(self.primes) == self.max_primes:\n",
    "           raise StopIteration\n",
    "        if not self.primes:\n",
    "            self.primes.append(2)                  # bootstrap\n",
    "            return 2\n",
    "        candidate = self.primes[-1]\n",
    "        while candidate := candidate + 1:\n",
    "            if candidate > self.max_value:\n",
    "                raise StopIteration\n",
    "            candidate_sqrt = candidate ** 0.5      # much faster to pre-compute\n",
    "            for divisor in self.primes:\n",
    "                if divisor > candidate_sqrt:       # candidate has no factors\n",
    "                    self.primes.append(candidate)\n",
    "                    return candidate\n",
    "                if candidate % divisor == 0:       # found a factor\n",
    "                    break                          # skip to next candidate\n",
    "            else:\n",
    "                assert False, \"This code block should never be reached\"\n",
    "\n",
    "    def __iter__(self):\n",
    "        # since both the iterable (Primes) and iterator (instances) must\n",
    "        # implement __iter__(), common practice is to use the same object:\n",
    "        return self"
   ]
  },
  {
   "cell_type": "code",
   "execution_count": 175,
   "metadata": {},
   "outputs": [
    {
     "name": "stdout",
     "output_type": "stream",
     "text": [
      "The first 10,000 primes are: 2 3 5 7 11 13 17 19 23 29 31 37 41 43 47 53 59 61 67 71 73 79 83 89 97 ...output trimmed... 104707 104711 104717 104723 104729\n",
      "Iterator should continue to raise StopIteration:\n",
      "Iterator is rejuvenated: 104743 104759 104761 104773 104779 \n",
      "\n"
     ]
    }
   ],
   "source": [
    "primes_iter = Primes(10_000)\n",
    "print(f'The first {len(primes_iter):,} primes are:', *primes_iter)\n",
    "print('Iterator should continue to raise StopIteration:', *primes_iter)\n",
    "# (Strictly speaking this is a broken iterator, because after some meddling...\n",
    "primes_iter.max_primes = 10_005\n",
    "# it will no longer continue to return StopIteration, per spec)\n",
    "print(f'Iterator is rejuvenated:', *primes_iter, '\\n')"
   ]
  },
  {
   "cell_type": "code",
   "execution_count": 172,
   "metadata": {},
   "outputs": [
    {
     "name": "stdout",
     "output_type": "stream",
     "text": [
      "First 10 primes: 2 3 5 7 11 13 17 19 23 29\n",
      "Primes up to 10: 2 3 5 7\n"
     ]
    }
   ],
   "source": [
    "# The Primes() class can also be used directly in an iterable context:\n",
    "print(f'First 10 primes:', *Primes(max_primes=10))\n",
    "print(f'Primes up to 10:', *Primes(max_value=10))"
   ]
  },
  {
   "cell_type": "markdown",
   "metadata": {},
   "source": [
    "#### Adding len() support to Primes"
   ]
  },
  {
   "cell_type": "code",
   "execution_count": 184,
   "metadata": {},
   "outputs": [
    {
     "name": "stdout",
     "output_type": "stream",
     "text": [
      "There are 25 prime numbers ≤ 100\n"
     ]
    }
   ],
   "source": [
    "def primes_len(self):\n",
    "    if self.max_value == float('inf'):\n",
    "        if isinstance(self.max_primes, int):\n",
    "            return self.max_primes\n",
    "        else:\n",
    "            raise TypeError(self, 'iterator length is undefined')\n",
    "    else:\n",
    "        # unless we've already hit max_primes...\n",
    "        if len(self.primes) == self.max_primes:\n",
    "                return self.max_primes\n",
    "        # spin up a clone instance to finish calculating...\n",
    "        calc_len = self\n",
    "        try:\n",
    "            while next(calc_len):\n",
    "                pass\n",
    "        except StopIteration:\n",
    "            return len(calc_len.primes)\n",
    "\n",
    "Primes.__len__ = primes_len\n",
    "\n",
    "print(f'There are {len(Primes(max_value=100))} prime numbers ≤ 100')\n",
    "\n",
    "######\n",
    "# here's a curious problem... (add a print() to the len function to test)\n",
    "# once Primes has a __len__ method, *-unpacking will internally invoke __len__:\n",
    "#print(*Primes(5))\n",
    "# although if the unpacking is inside a set, it won't:\n",
    "#print({*Primes(5)})\n",
    "# this is a serious problem for Primes(), since len() is potentially expensive\n",
    "######\n",
    "#prime = Primes()\n",
    "#print(len(prime))\n",
    "#for x in range(10):\n",
    "#    print(next(prime))\n",
    "#print(len(prime))"
   ]
  },
  {
   "cell_type": "markdown",
   "metadata": {},
   "source": [
    "#### Adding getitem() and subscriptability to Primes"
   ]
  },
  {
   "cell_type": "code",
   "execution_count": 203,
   "metadata": {},
   "outputs": [
    {
     "name": "stdout",
     "output_type": "stream",
     "text": [
      "ERROR: tried to access iterator by index: 'Primes' object is not subscriptable\n",
      "ERROR: tried to create reversed iterator: 'Primes' object is not reversible\n",
      "Now we can access arbitrary index values: 13\n",
      "And we can run our iterator in reverse: [29, 23, 19, 17, 13, 11, 7, 5, 3, 2]\n"
     ]
    }
   ],
   "source": [
    "del Primes.__getitem__  # (reset cell)\n",
    "\n",
    "\n",
    "prime_indexes = Primes(10)\n",
    "# Despite iterator values being ordered, they are not automatically\n",
    "# accessible by index as a \"sequence\"\n",
    "try:\n",
    "    print(prime_indexes[5])\n",
    "except TypeError as e:\n",
    "    print(f\"ERROR: tried to access iterator by index: {e}\")\n",
    "# Nor is the iterator reversable:\n",
    "try:\n",
    "    rev = reversed(prime_indexes)\n",
    "except TypeError as e:\n",
    "    print(f\"ERROR: tried to create reversed iterator: {e}\")\n",
    "\n",
    "\n",
    "# Adding a __getitem__() method to Primes allows indexing and reversing:\n",
    "def prime_indexer(self, n):\n",
    "    if len(self.primes) <= n:\n",
    "        calc_all = self\n",
    "        try:\n",
    "            while next(calc_all):\n",
    "                pass\n",
    "        except StopIteration:\n",
    "            return calc_all.primes[n]\n",
    "    return self.primes[n]\n",
    "Primes.__getitem__ = prime_indexer\n",
    "print(f'Now we can access arbitrary index values: {prime_indexes[5]}')\n",
    "print(f'And we can run our iterator in reverse: {[x for x in reversed(Primes(10))]}')"
   ]
  },
  {
   "attachments": {},
   "cell_type": "markdown",
   "metadata": {},
   "source": [
    "### Case study: subscriptable but not iterable\n",
    "\n",
    "re.Match objects"
   ]
  },
  {
   "cell_type": "code",
   "execution_count": 24,
   "metadata": {},
   "outputs": [
    {
     "name": "stdout",
     "output_type": "stream",
     "text": [
      "re.match returns <re.Match object; span=(0, 9), match='Cats woof'>\n",
      "Subscriptable: index \"1\" == woof\n",
      "Iterable?: Tried to iterate but got TypeError: 're.Match' object is not iterable\n",
      "__getitem__(0): Cats woof\n",
      "__getitem__(1): woof\n",
      "Hit the end of the sequence: no such group\n"
     ]
    }
   ],
   "source": [
    "print('re.match returns', m := re.match(r\"\\w+ (\\w+)\", \"Cats woof, dogs meow\"))\n",
    "print('Subscriptable: index \"1\" ==', m[1])\n",
    "try:\n",
    "    print(group for group in m)\n",
    "except TypeError as e:\n",
    "    print('Iterable?: Tried to iterate but got TypeError:', e)\n",
    "\n",
    "# it's a mystery to me why Python doesn't fall back to using the sequence\n",
    "# protocol, since __getitem__ is zero-indexed:\n",
    "try:\n",
    "    print('__getitem__(0):', m.__getitem__(0))\n",
    "    print('__getitem__(1):', m.__getitem__(1))\n",
    "    print('__getitem__(2):', m.__getitem__(2))\n",
    "except IndexError as e:\n",
    "     print('Hit the end of the sequence:', e)\n",
    "# (re.Match objects don't have a __len__(), which is required by the sequence\n",
    "# API, but this doesn't seem to matter in other similar cases)"
   ]
  },
  {
   "cell_type": "markdown",
   "metadata": {},
   "source": [
    "NB, `re.finditer()` can be used when an iterator is needed!"
   ]
  },
  {
   "attachments": {},
   "cell_type": "markdown",
   "metadata": {},
   "source": [
    "### Case 3: Sentinal iterator\n",
    "\n",
    "Sentinal iterators can be used to turn a function which doesn't follow the iterator protocol into a genuine iterator. We provide a function and a \"sentinal value\" to `iter()`, which returns our iterator object. Our iterator will, when iterated on, call the function and yield its return value — unless the function returns the sentinal value, in which case our iterator raises `StopIteration`."
   ]
  },
  {
   "cell_type": "code",
   "execution_count": 136,
   "metadata": {},
   "outputs": [
    {
     "name": "stdout",
     "output_type": "stream",
     "text": [
      "<class 'callable_iterator'>\n",
      "Iteration 1: 2\n",
      "Iteration 2: 1\n",
      "After 2 iterations we rolled our sentinal value\n",
      "Note that we never iterate on the sentinal value; StopIteration is raised immediately\n",
      "Sentinal iterators (appropriately) continue to raise StopIteration\n",
      "Even if the function wouldn't continue to yield the sentinal value\n"
     ]
    }
   ],
   "source": [
    "def random_iterator():\n",
    "    return random.randint(0, 5)\n",
    "\n",
    "sentinal_iter = iter(random_iterator, 5) # new iterator object, sentinal value=5\n",
    "print(type(sentinal_iter))\n",
    "\n",
    "i = -1\n",
    "for i,num in enumerate(sentinal_iter):\n",
    "    print(f'Iteration {i+1}: {num}')\n",
    "print(f'After {i+1} iterations we rolled our sentinal value')\n",
    "print(\"Note that we never iterate on the sentinal value; StopIteration is raised immediately\")\n",
    "\n",
    "# Iterators are supposed to continue to raise StopIteration\n",
    "# Sentinal iterators get this good behavior for free, even if the function\n",
    "# wouldn't otherwise continue to yield the sentinal value:\n",
    "for num in sentinal_iter:\n",
    "    print(f'Another iteration: {num}') # not printed!\n",
    "try:\n",
    "    sentinal_iter.__next__()\n",
    "except StopIteration:\n",
    "    print(\"Sentinal iterators (appropriately) continue to raise StopIteration\")\n",
    "    print(\"Even if the function wouldn't continue to yield the sentinal value\")"
   ]
  },
  {
   "attachments": {},
   "cell_type": "markdown",
   "metadata": {},
   "source": [
    "### Case 4: Sequence protocol iterator"
   ]
  },
  {
   "cell_type": "code",
   "execution_count": 34,
   "metadata": {},
   "outputs": [
    {
     "name": "stdout",
     "output_type": "stream",
     "text": [
      "<class '__main__.SequenceIteratable'>\n",
      "first\n",
      "last\n",
      "<class 'iterator'>\n",
      "first\n",
      "last\n"
     ]
    }
   ],
   "source": [
    "class SequenceIteratable():\n",
    "    def __getitem__(self, index:int):\n",
    "        match index:\n",
    "            case 0:\n",
    "                return 'first'\n",
    "            case 1:\n",
    "                return 'last'\n",
    "            case _:\n",
    "                raise IndexError\n",
    "    \n",
    "    def __len__(self):\n",
    "        return 2            # len() support isn't needed for the below uses, but\n",
    "                            # is required by the sequence protocol, and is used\n",
    "                            # e.g., for reverse()\n",
    "    \n",
    "sequence_iter = SequenceIteratable()\n",
    "print(type(sequence_iter))\n",
    "for x in sequence_iter:\n",
    "    print(x)\n",
    "\n",
    "# bind the iterator explicitly:\n",
    "sequence_iter2 = iter(SequenceIteratable())\n",
    "print(type(sequence_iter2))\n",
    "for x in sequence_iter2:\n",
    "    print(x)"
   ]
  },
  {
   "cell_type": "markdown",
   "metadata": {},
   "source": [
    "### Case 4: generator functions\n",
    "\n",
    "Generator functions are another type of iterator, w"
   ]
  },
  {
   "cell_type": "code",
   "execution_count": 11,
   "metadata": {},
   "outputs": [
    {
     "name": "stdout",
     "output_type": "stream",
     "text": [
      "<generator object testgen at 0x11264c460>\n",
      "<generator object <genexpr> at 0x112477440>\n"
     ]
    }
   ],
   "source": [
    "def testgen():\n",
    "    yield None\n",
    "\n",
    "print(testgen())\n",
    "print(x for x in range(0))"
   ]
  },
  {
   "cell_type": "markdown",
   "metadata": {},
   "source": [
    "### Epilogue: interator miscellanea"
   ]
  },
  {
   "cell_type": "code",
   "execution_count": 78,
   "metadata": {},
   "outputs": [
    {
     "name": "stdout",
     "output_type": "stream",
     "text": [
      "\"*\" unpacking:\n",
      "<class 'tuple_iterator'>\n",
      "Everything from foo: 1 2 3\n",
      "Everything from foo:\n",
      "\n",
      "reversed() built-in function returns a reverse iterator:\n",
      "<class 'reversed'>\n",
      "Reverse iterator: last first\n"
     ]
    }
   ],
   "source": [
    "print('\"*\" unpacking:')\n",
    "foo = iter((1,2,3))\n",
    "print(type(foo))\n",
    "print('Everything from foo:', *foo)\n",
    "print('Everything from foo:', *foo) # foo was exhausted during first unpacking\n",
    "\n",
    "print('\\nreversed() built-in function returns a reverse iterator:')\n",
    "rev = reversed(sequence_iter)\n",
    "print(type(rev))\n",
    "print('Reverse iterator:', *rev)"
   ]
  },
  {
   "attachments": {},
   "cell_type": "markdown",
   "metadata": {},
   "source": [
    "### Coda: iterator types\n",
    "Internally, iterators come in several types, but we typically needn't sweat\n",
    "those details. Here some are, for reference."
   ]
  },
  {
   "cell_type": "code",
   "execution_count": 79,
   "metadata": {},
   "outputs": [
    {
     "name": "stdout",
     "output_type": "stream",
     "text": [
      "tuple's __iter__:       <class 'tuple_iterator'>\n",
      "set's __iter__:         <class 'set_iterator'>\n",
      "dict's __iter__:        <class 'dict_keyiterator'>\n",
      "list's __iter__:        <class 'list_iterator'>\n",
      "list comp's __iter__:   <class 'list_iterator'>\n",
      "generator's __iter__:   <class 'generator'>\n",
      "str's __iter__:         <class 'str_ascii_iterator'>\n",
      "str's __iter__:         <class 'str_iterator'>\n",
      "byte's __iter__:        <class 'bytes_iterator'>\n",
      "range()'s __iter__:     <class 'range_iterator'>\n",
      "file object's __iter__: <class '_io.TextIOWrapper'>\n",
      "iterator instance's __iter__: <class '__main__.Primes'>\n",
      "sentinal iterator's __iter__: <class 'callable_iterator'>\n",
      "sequence protocol iterator:   <class 'iterator'>\n"
     ]
    }
   ],
   "source": [
    "print(\"tuple's __iter__:      \", type((1,2).__iter__()))\n",
    "print(\"set's __iter__:        \", type({1,2}.__iter__()))\n",
    "print(\"dict's __iter__:       \", type({1:2,3:4}.__iter__()))\n",
    "print(\"list's __iter__:       \", type([1,2].__iter__()))\n",
    "print(\"list comp's __iter__:  \", type([x for x in (1,)].__iter__()))\n",
    "print(\"generator's __iter__:  \", type((x for x in (1,)).__iter__()))\n",
    "print(\"str's __iter__:        \", type('sam'.__iter__()))\n",
    "print(\"str's __iter__:        \", type('s\\xfe5m'.__iter__()))\n",
    "print(\"byte's __iter__:       \", type(b'ham'.__iter__()))\n",
    "print(\"range()'s __iter__:    \", type(range(10).__iter__()))\n",
    "print(\"file object's __iter__:\", type(open('python-reference.ipynb').__iter__()))\n",
    "# Because our custom Prime iterator follows the common practice of using the\n",
    "# same object as both iterable and iterator, the type() of its iterator is just\n",
    "# the class itself:\n",
    "print(\"iterator instance's __iter__:\", type(prime_iter.__iter__()))\n",
    "print(\"sentinal iterator's __iter__:\", type(sentinal_iter.__iter__()))\n",
    "# Sequence protocol iterator has no __iter__:\n",
    "print(\"sequence protocol iterator:  \", type(iter(sequence_iter)))"
   ]
  },
  {
   "attachments": {},
   "cell_type": "markdown",
   "metadata": {},
   "source": [
    "-------------------------------------------------------------------------------\n",
    "\n",
    "# Expressions\n",
    "\n",
    "An [expression](https://docs.python.org/3/reference/expressions.html) is a\n",
    "syntactic entity which evaluates to ('yields'/'returns') a value. \n",
    "* atomic expressions:\n",
    "    * names: `name` (return the value pointed to by name)\n",
    "    * literals: `42`, `'foo'` (return themselves)\n",
    "    * enclosures:\n",
    "        * parenthesized expression: `(0)` --> `0`\n",
    "        * parenthesized tuples: empty pairs of parentheses `()` or parentheses\n",
    "          containing at least one comma return tuples: `(0,)` --> `(0,)`\n",
    "        * lists, sets, dicts (with contents either explicitly listed, or\n",
    "          computed via a [comprehension](#list-comprehensions)): return a new\n",
    "          list/set/dict\n",
    "        * [generator expessions](#generator-expressions):\n",
    "          `(x**2 for x in range(10))`: returns a new generator object\n",
    "        * `yield` expressions in generator functions\n",
    "* primary expressions: (\"the most tightly bound operations of the language\")\n",
    "    * attribute refereces: `name.attribute`\n",
    "    * subscription: `container_name[subscript1, subscript2 ...]`\n",
    "    * slicings: `sequence_name[index1, index2...]`,\n",
    "      `sequence_name[start:stop:stride]`\n",
    "    * calls: `callable_name(arg1, arg2, arg3='...')` (functions, built-ins,\n",
    "      methods, classes)\n",
    "* unary/binary mathematical/bitwise operator expressions: `1 + 2` or `~bytes` or\n",
    "  `\"string\" + \"addenda\"`. See [Operators](#Operators) below.\n",
    "* comparisons and membership tests: `a < b` or `c not in d`. Yield `True` or\n",
    "  `False`. See [Comparison operators](#comparison-operators) below.\n",
    "* boolean negation expressions: `not x` (returns `True` if x is false, `False`\n",
    "  otherwise)\n",
    "* boolean conjuction expressions: `x and y` (returns `x` if x is false, `y`\n",
    "  otherwise)\n",
    "* boolean disjunction expressions: `x or y` (returns `x` if x is true, `y`\n",
    "  otherwise)\n",
    "* assignment expressions: whereas assignment (`x = y`) is a statement that\n",
    "    yields no value, assignment expressions using the \"walrus\" operator `:=`\n",
    "    both yield and assign an expression (`x := y` returns `y`, in addition to\n",
    "    assigning it)\n",
    "* conditional expressions (aka ternary operator) `x if condition else y`\n",
    "  (returns either `x` or `y`)\n",
    "* lambda expressions: `lambda x: x**2` (returns a function object)\n",
    "* `await` expressions in asynchronous coroutine functions\n",
    "\n",
    "\"Note: neither `and` nor `or` restrict the value and type they return to\n",
    "False and True, but rather return the last evaluated argument. This is\n",
    "sometimes useful, e.g., if `s` is a string that should be replaced by a default\n",
    "value if it is empty, the expression `s or 'foo'` yields the desired value.\""
   ]
  },
  {
   "attachments": {},
   "cell_type": "markdown",
   "metadata": {},
   "source": [
    "## Operators\n",
    "\n",
    "Operator precedence:\n",
    "<https://docs.python.org/3/reference/expressions.html#operator-precedence>"
   ]
  },
  {
   "attachments": {},
   "cell_type": "markdown",
   "metadata": {},
   "source": [
    "### Mathematical and bitwise operators"
   ]
  },
  {
   "cell_type": "code",
   "execution_count": 17,
   "metadata": {},
   "outputs": [
    {
     "data": {
      "text/plain": [
       "-2"
      ]
     },
     "execution_count": 17,
     "metadata": {},
     "output_type": "execute_result"
    }
   ],
   "source": [
    "a = b = 1   # (int implements all of these)\n",
    "\n",
    "# Mathematical operators\n",
    "a + b  #Add\n",
    "a - b  #Sub\n",
    "a * b  #Mult\n",
    "a / b  #Div\n",
    "a // b #FloorDiv\n",
    "a ** b #Power\n",
    "a % b  #Mod\n",
    "#c @ d #matrix multiply (no builtin types have __matmul__ method, cf. NumPy)\n",
    "+a     #unary Add: a.__pos__(), generally no effect on value\n",
    "-a     #unary Sub: a.__neg__(), generally inverts sign\n",
    "\n",
    "# Bitwise operators\n",
    "a & b  # bitwise AND           turn off k'th bit: n & ~(1 << (k-1))\n",
    "a | b  # bitwise OR             turn on k'th bit: n | (1 << (k-1))\n",
    "a ^ b  # bitwise XOR               flip k'th bit: n ^ (1 << (k-1))\n",
    "a << b # left shift\n",
    "a >> b # right shift\n",
    "~a     # unary bitwise NOT (invert)"
   ]
  },
  {
   "attachments": {},
   "cell_type": "markdown",
   "metadata": {},
   "source": [
    "### Comparison operators\n",
    "\n",
    "These all yield `True` or `False`, unless the corresponding dunder method for\n",
    "the object has been changed to return something fancier."
   ]
  },
  {
   "cell_type": "code",
   "execution_count": 9,
   "metadata": {},
   "outputs": [],
   "source": [
    "a = b = ''   # (str implements all of these)\n",
    "\n",
    "# value comparisons\n",
    "a < b   # a.__lt__(b)\n",
    "a > b   # a.__gt__(b)\n",
    "a <= b  # a.__le__(b)\n",
    "a >= b  # a.__ge__(b)\n",
    "a == b  # a.__eq__(b)\n",
    "a != b  # a.__ne__(b)\n",
    "\n",
    "# identity comparisons\n",
    "a is b      # these use id() to test if a and b are the same object\n",
    "a is not b  #   https://docs.python.org/3/library/functions.html#id\n",
    "\n",
    "# membership tests\n",
    "a in b      # a.__contains__(b), falling back to __iter__(), then __getitem__()\n",
    "a not in b; #   https://docs.python.org/3/reference/expressions.html#comparisons"
   ]
  },
  {
   "cell_type": "markdown",
   "metadata": {},
   "source": [
    "#### Chained comparison\n",
    "\n",
    "For more concise and readable code, comparison operators can be chained"
   ]
  },
  {
   "cell_type": "code",
   "execution_count": 14,
   "metadata": {},
   "outputs": [
    {
     "data": {
      "text/plain": [
       "True"
      ]
     },
     "execution_count": 14,
     "metadata": {},
     "output_type": "execute_result"
    }
   ],
   "source": [
    "5 < 10 <= 10 == 10 != 5\n",
    "# evaluated as: (5 < 10) and (10 <= 10) and (10 == 10) and (10 != 5)"
   ]
  },
  {
   "cell_type": "markdown",
   "metadata": {},
   "source": [
    "### Boolean logic operators\n",
    "\n",
    "TODO: document how non-bools interact with the boolean operators, e.g., type(0 and 1) -> int"
   ]
  },
  {
   "cell_type": "code",
   "execution_count": 16,
   "metadata": {},
   "outputs": [
    {
     "name": "stdout",
     "output_type": "stream",
     "text": [
      "False\n",
      "False\n",
      "True\n"
     ]
    }
   ],
   "source": [
    "a = True\n",
    "b = False\n",
    "\n",
    "print(not a)\n",
    "print(a and b)\n",
    "print(a or b)"
   ]
  },
  {
   "attachments": {},
   "cell_type": "markdown",
   "metadata": {},
   "source": [
    "### Walrus operator\n",
    "\n",
    "Assignment *expressions* use the walrus `:=` operator to both yield and assign\n",
    "the value of an expression. (This is how assignment works by default in C, for\n",
    "example.)\n",
    "\n",
    "For regular assignment, see\n",
    "[assignment statements](#assignment-statements), below."
   ]
  },
  {
   "cell_type": "code",
   "execution_count": 10,
   "metadata": {},
   "outputs": [
    {
     "name": "stdout",
     "output_type": "stream",
     "text": [
      "oooooooo\n",
      "oooooooo\n"
     ]
    }
   ],
   "source": [
    "if (match := re.search('f(o+)b', 'foooooooobar')):\n",
    "    print(match.group(1))\n",
    "\n",
    "# is the same as:\n",
    "\n",
    "match = re.search('f(o+)b', 'foooooooobar')\n",
    "if match:\n",
    "    print(match.group(1))\n",
    "\n",
    "# especially useful in a long if .. elif chain"
   ]
  },
  {
   "attachments": {},
   "cell_type": "markdown",
   "metadata": {
    "tags": [
     "testing tags"
    ]
   },
   "source": [
    "-------------------------------------------------------------------------------\n",
    "\n",
    "# Statements\n",
    "\n",
    "A statement is a syntactic entity which can be executed. (Roughly, statements\n",
    "are actions or commands.) Statements may or may not return a value.\n",
    "\n",
    "  * simple statements (comprise only a single line):\n",
    "      * *expression statements*: expressions used on their own, rather than as\n",
    "        part of a larger statement. Most expressions are not useful on their\n",
    "        own (`1+1`). Sometimes, however, expressions cause desired side\n",
    "        effects: e.g., `print()` (an expression which evaluates to None) is\n",
    "        used on its own for its \"side effect\" of printing to the terminal.\n",
    "      * *assignment statements*: `name = expression()` (bind a name to a value)\n",
    "      * `del` statements\n",
    "      * `import`\n",
    "      * `break`, `continue`\n",
    "      * `pass` statements: \"when a statement is required syntactically, but no\n",
    "        code needs to be executed\"\n",
    "      * `return`, `yield`\n",
    "      * `raise`, `assert`\n",
    "      * `nonlocal`, `global` scope statements\n",
    "  * complex statements\n",
    "    * `if` statement\n",
    "    * `for` and `while` loops\n",
    "    * `with` statements (and context managers)\n",
    "    * ...\n"
   ]
  },
  {
   "attachments": {},
   "cell_type": "markdown",
   "metadata": {},
   "source": [
    "## Assignment statements"
   ]
  },
  {
   "cell_type": "code",
   "execution_count": 11,
   "metadata": {},
   "outputs": [
    {
     "name": "stdout",
     "output_type": "stream",
     "text": [
      "[3, 4, 5, 6, 7, 8]\n",
      "5   <class 'int'>\n",
      "4   <class 'int'>\n",
      "8   <class 'int'>\n",
      "4.0 <class 'float'>\n",
      "4   <class 'int'>\n",
      "1   <class 'int'>\n"
     ]
    }
   ],
   "source": [
    "# assignment\n",
    "a = 1                     # bind target name 'a' to value 'int(1)'\n",
    "a = b = c = 1             # chain assignment, bind multiple names to the same object\n",
    "a, b, c = 1, 2, 3         # tuple unpacking before binding: a == int(1)\n",
    "foo = 1, 2, 3             # implicit grouping as tuple: foo == tuple(1, 2, 3)\n",
    "d, e, *f, g = range(1,10) # (PEP 3132): a 'starred' target is greedy:\n",
    "print(f)                  # [3, 4, 5, 6, 7, 8]\n",
    "\n"
   ]
  },
  {
   "cell_type": "code",
   "execution_count": null,
   "metadata": {},
   "outputs": [],
   "source": [
    "# augmented assignment (plus type coercion demo)\n",
    "c += 2;     print(str(c).ljust(3), type(c))  # 5\n",
    "c -= 1;     print(str(c).ljust(3), type(c))  # 4\n",
    "c *= 2;     print(str(c).ljust(3), type(c))  # 8\n",
    "c /= 2;     print(str(c).ljust(3), type(c))  # 4.0 - type coercion\n",
    "c = int(c); print(str(c).ljust(3), type(c))  # 4\n",
    "c //= 3;    print(str(c).ljust(3), type(c))  # 1 - floor division, no type coercion\n",
    "\n",
    "# full list, from the parser:\n",
    "#     +=    -=    *=    /=    //=\n",
    "#     %=    **=   @=\n",
    "#     &=    |=    ^=    <<=   >>="
   ]
  },
  {
   "cell_type": "markdown",
   "metadata": {},
   "source": [
    "# Data types and common methods"
   ]
  },
  {
   "cell_type": "markdown",
   "metadata": {},
   "source": [
    "## Number types (int, float, complex)"
   ]
  },
  {
   "cell_type": "code",
   "execution_count": 3,
   "metadata": {},
   "outputs": [
    {
     "name": "stdout",
     "output_type": "stream",
     "text": [
      "1,000,000\n",
      "1_000_000\n",
      "<class 'int'> OverflowError converting int to str when digits ≥ 4300\n",
      "<class 'float'> (9, 2) 4.5 False 1.7976931348623157e+308\n",
      "<class 'complex'> 3.0 4.0 (3-4j) (1+0j)\n"
     ]
    }
   ],
   "source": [
    "# int\n",
    "i = 1_000_000        # underscores are ignored to allow for grouping\n",
    "print(f'{i:,}')      # output with comma grouping\n",
    "print(f'{i:_}')      # ...underscore grouping\n",
    "print(type(i), 'OverflowError converting int to str when digits ≥', sys.int_info.default_max_str_digits)\n",
    "\n",
    "# float\n",
    "f = 4.5\n",
    "print(type(f), f.as_integer_ratio(), f.conjugate(), f.is_integer(), sys.float_info.max)\n",
    "\n",
    "# complex\n",
    "c = 3+4j\n",
    "print(type(c), c.real, c.imag, c.conjugate(), c/c)"
   ]
  },
  {
   "cell_type": "markdown",
   "metadata": {},
   "source": [
    "### Alternate bases"
   ]
  },
  {
   "cell_type": "code",
   "execution_count": 50,
   "metadata": {},
   "outputs": [
    {
     "name": "stdout",
     "output_type": "stream",
     "text": [
      "5\n",
      "5\n",
      "0b101\n",
      "5\n",
      "5 requires 3 bits; 2 bits are 'on'\n"
     ]
    }
   ],
   "source": [
    "x = 5\n",
    "\n",
    "# binary\n",
    "print(0b101)               # int specified in binary\n",
    "print(int(\"101\", 2))       # turn a string in base n=2 into an int\n",
    "print(bin(5))              # turn an integer value into a string of its binary representation\n",
    "print(int(bin(5), 2))      # (inverse functions)\n",
    "print(f\"{x} requires {x.bit_length()} bits; {x.bit_count()} bits are 'on'\")"
   ]
  },
  {
   "cell_type": "markdown",
   "metadata": {},
   "source": [
    "## Binary sequence types (bytes, bytearrray)"
   ]
  },
  {
   "cell_type": "code",
   "execution_count": 17,
   "metadata": {},
   "outputs": [
    {
     "name": "stdout",
     "output_type": "stream",
     "text": [
      "--Bytes--\n",
      "<class 'bytes'> b'Hello'\n",
      "<class 'bytes'> b'H'\n",
      "<class 'int'> 72\n",
      "Tried to modify bytes but 'bytes' object does not support item assignment.\n",
      "b'Hello' 72 101 108 108 111\n",
      "\n",
      "--Bytearray--\n",
      "<class 'bytearray'> bytearray(b'Hello')\n",
      "<class 'bytearray'> bytearray(b'H')\n",
      "<class 'int'> 72\n",
      "bytearray(b'Hemlo') 72 101 109 108 111\n",
      "\n",
      "--Character value comparison--\n",
      "H: 72 72 72\n"
     ]
    }
   ],
   "source": [
    "print('--Bytes--')\n",
    "foo = b'Hello'\n",
    "print(type(foo), foo)\n",
    "print(type(foo[0:1]), foo[0:1])     # access via slice -> bytes\n",
    "print(type(foo[0]), foo[0])         # access via index -> int\n",
    "try:                                # immutable\n",
    "    foo[2] += 1\n",
    "except TypeError as e:\n",
    "    print(f'Tried to modify bytes but {e}.')\n",
    "print(foo, *(foo[c] for c in range(len(foo))))\n",
    "\n",
    "print('\\n--Bytearray--')\n",
    "bar = bytearray(b'Hello')\n",
    "bar = bytearray.fromhex('48 65 6c 6c 6f')   # equivalent\n",
    "print(type(bar), bar)\n",
    "print(type(bar[0:1]), bar[0:1])     # access via slice -> bytearray\n",
    "print(type(bar[0]), bar[0])         # access via index -> int\n",
    "bar[2] += 1                         # mutable\n",
    "print(bar, *(bar[c] for c in range(len(bar))))\n",
    "\n",
    "print('\\n--Character value comparison--')\n",
    "# When working with ASCII text as a bytes/bytearray, taking indicies of those\n",
    "# sequences will in effect give us the ASCII value (Unicode code point) of the\n",
    "# 'character' (since it's stored as an unencoded byte).\n",
    "# With strings, we need to use ord() to yield the Unicode code point:\n",
    "print('H:',\n",
    "      ord('Hello'[0]),\n",
    "      b'Hello'[0],\n",
    "      bytearray(b'Hello')[0])"
   ]
  }
 ],
 "metadata": {
  "kernelspec": {
   "display_name": "Python 3",
   "language": "python",
   "name": "python3"
  },
  "language_info": {
   "codemirror_mode": {
    "name": "ipython",
    "version": 3
   },
   "file_extension": ".py",
   "mimetype": "text/x-python",
   "name": "python",
   "nbconvert_exporter": "python",
   "pygments_lexer": "ipython3",
   "version": "3.11.2"
  },
  "orig_nbformat": 4
 },
 "nbformat": 4,
 "nbformat_minor": 2
}
