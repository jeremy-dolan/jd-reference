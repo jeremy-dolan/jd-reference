{
 "cells": [
  {
   "attachments": {},
   "cell_type": "markdown",
   "metadata": {},
   "source": [
    "jd's python 3 testing/reference notebook  \n",
    "(work in progress!)"
   ]
  },
  {
   "cell_type": "code",
   "execution_count": 1,
   "metadata": {},
   "outputs": [],
   "source": [
    "import locale\n",
    "import warnings\n",
    "import json\n",
    "import re\n",
    "import sys"
   ]
  },
  {
   "attachments": {},
   "cell_type": "markdown",
   "metadata": {},
   "source": [
    "# Built-in types overview\n",
    "\n",
    "|                  | type(x)    | x               | notes |\n",
    "| ---------------- | ---------- | --------------- | ----- |\n",
    "| numbers          | int        | `5`             | dynamically sized; includes all the overhead of any other object in Python (a pointer to its type, number of references...); at minimum, 28 bytes/int (`sys.getsizeof(12345)`); NumPy can avoid this overhead (as can the `array` module?)\n",
    "|                  | float      | `5.0`           | see `sys.float_info` for max value and precision\n",
    "|                  | complex    | `5 + 3j`        | implemented as two floats\n",
    "| text sequence    | str        | `'xyz'`         | ordered, immutable, sequence of textual characters\n",
    "| object sequences | tuple      | `('abc', 123)`  | ordered, immutable sequence of objects\n",
    "|                  | list       | `['xyz', 890]`  | ordered, mutable sequence of objects\n",
    "| binary sequences | bytes      | `b'Hello'`      | ordered, immutable sequence of bytes (ints 0-255)\n",
    "|                  | bytearray  | `bytearray(5)`  | ordered, mutable sequence of bytes. Arg can be a value (specifying the array size, which will be zero-filled), an iterable of ints to copy, or existing binary `b'data'`. Alternatively, `bytearray.fromhex()` can read  hex data to create the array.\n",
    "|                  | memoryview | `memoryview(bytes(5))`\n",
    "| mappings         | dict       | `{'a': 1, 'b': 2}` | ordered (fwiw), mutable collection of key:value pairs. keys must be unique, hashable objects; values can be any object\n",
    "| sets             | set        | `{1, 2, 3}`     | unordered, mutable collection of unique objs\n",
    "|                  | frozenset  | `frozenset(`*iterable*`)` | unordered, immutable collection of unique objs\n",
    "| generator        | range      | `range(1,8,2)`  | iterable generator for values; here: start 1, stop 8, step 2 -> (1,3,5,7)\n",
    "| boolean type \t   | bool       | `True`          | https://docs.python.org/3/library/stdtypes.html#truth\n",
    "| null object      | NoneType   | `None`          | there is one null object, \"None\" (note: automatically returned by functions that don't explicitly return a value)\n",
    "\n",
    "- HASHABLES (any object which you can call `hash()` on)\n",
    "    - Dictionary keys and set elements must be hashable (because dictionaries\n",
    "      and sets are implemented using a hash table for lookup)\n",
    "    - Built-in immutable objects (*e.g.*, `str`, `int`, `bool`, `bytes`) are\n",
    "      generally 'hashable'\n",
    "    - The exceptions are `frozenset` and `tuple`, which are hashable iff they\n",
    "      contain only immutables\n",
    "    - Mutable objects (*e.g.*, `list`, `dict`, `set`, `tuple`s containing e.g.,\n",
    "      `list`s) are 'unhashable'.\n",
    "- ITERABLES (objects which can return their members one at a time)\n",
    "    - sequences (accessible with integer indices): text (`str`), object (`list`,\n",
    "      `tuple`), and binary (`bytes`, `bytearray`, `memoryview`)\n",
    "    - mappings (accessible with arbitrary, immutable keys): `dict`\n",
    "    - sets: `set`, `frozenset`\n",
    "    - generators: `range()`s, [generator functions](#generators),\n",
    "      [generator expressions](#generator-expressions)\n",
    "    - [file-type objects](#disk) created with `open()`\n",
    "    - any other object with either\n",
    "        1. an `__iter__()` method, which should return an iterator object which\n",
    "           implements `__next__()` and raises `StopIteration` when no more\n",
    "           elements are available\n",
    "        2. a `__getitem__()` method which implements sequence semantics --\n",
    "           which seems to mostly mean it has a `__len__()`, and its indicies\n",
    "           run from `0` to `len()`, but the documentation is inconsistent and\n",
    "           the code is obscure.\n",
    "- SUBSCRIPTABLES:\n",
    "    - An object is subscriptable if it implements `__getitem__()`.\n",
    "    - Often iterables are subscriptable and vice versa, but not always:\n",
    "        - Sets, e.g., are iterable, but not subscriptable:\n",
    "        - `re.match` returns a \"`Match`\" object that is subscriptable but not\n",
    "          iterable. See following code block.\n",
    "\n",
    "Types reference: https://docs.python.org/3/library/stdtypes.html"
   ]
  },
  {
   "cell_type": "code",
   "execution_count": 13,
   "metadata": {},
   "outputs": [
    {
     "name": "stdout",
     "output_type": "stream",
     "text": [
      "re.match returns <re.Match object; span=(0, 11), match='Cats woofed'>\n",
      "Subscriptable: index \"1\" is the first parentheses: woofed\n",
      "Explicit lookup with re.Match.__getitem__(1): woofed\n",
      "Tried to iterate but got TypeError: 're.Match' object is not iterable\n",
      "Tried to len() but got TypeError: object of type 're.Match' has no len()\n"
     ]
    }
   ],
   "source": [
    "# subscriptable but not iterable:\n",
    "m = re.match(r\"\\w+ (\\w+)\", \"Cats woofed, dogs meowed\")\n",
    "print('re.match returns', m)\n",
    "print('Subscriptable: index \"1\" is the first parentheses:', m[1])\n",
    "print('Explicit lookup with re.Match.__getitem__(1):', m.__getitem__(1))\n",
    "try:\n",
    "    for item in m:\n",
    "        print(item)\n",
    "except TypeError as err:\n",
    "    print('Tried to iterate but got TypeError:', err)\n",
    "\n",
    "# I believe it's not iterable because re.Match doesn't define __len__()\n",
    "# (which I understand to be a requirement for using __getitem__ as an iterable)\n",
    "try:\n",
    "     print(len(m))\n",
    "except TypeError as err:\n",
    "     print('Tried to len() but got TypeError:', err)"
   ]
  },
  {
   "attachments": {},
   "cell_type": "markdown",
   "metadata": {},
   "source": [
    "# Expressions\n",
    "\n",
    "An [expression](https://docs.python.org/3/reference/expressions.html) is a\n",
    "syntactic entity which evaluates to ('yields'/'returns') a value. \n",
    "* atomic expressions:\n",
    "    * names: `name` (returns the value pointed to by name)\n",
    "    * literals: `42`, `'foo'` (returns itself)\n",
    "    * enclosures:\n",
    "        * parenthesized expression: `(0)` (returns the expression inside the\n",
    "          parentheses, `0`)\n",
    "        * parenthesized tuples: empty pairs of parentheses `()` or parentheses\n",
    "          containing at least one comma return tuples: `(0,)` -> `(0,)`\n",
    "        * lists, sets, dicts (with contents either explicitly listed, or\n",
    "          computed via a [comprehension](#list-comprehensions)) (return a new\n",
    "          list/set/dict)\n",
    "        * [generator expessions](#generator-expressions):\n",
    "          `(x**2 for x in range(10))` (returns a new generator object)\n",
    "        * `yield` expressions in generator functions\n",
    "* primary expressions: (\"the most tightly bound operations of the language\")\n",
    "    * attribute refereces: `name.attribute`\n",
    "    * subscription: `container_name[subscript1, subscript2 ...]`\n",
    "    * slicings: `sequence_name[index1, index2...]`,\n",
    "      `sequence_name[start:stop:stride]`\n",
    "    * calls: `callable_name(arg1, arg2, arg3='...')` (functions, built-ins,\n",
    "      methods, classes)\n",
    "* unary/binary arithmetic/bitwise operator expressions: `1 + 2` or `~bytes` or\n",
    "  `\"string\" + \"addenda\"`. See [Operators](#Operators) below.\n",
    "* comparisons and membership tests: `a < b` or `c not in d`. Yield `True` or\n",
    "  `False`. See [Comparison operators](#comparison-operators) below.\n",
    "* boolean negation expressions: `not x` (returns `True` if x is false, `False`\n",
    "  otherwise)\n",
    "* boolean conjuction expressions: `x and y` (returns `x` if x is false, `y`\n",
    "  otherwise)\n",
    "* boolean disjunction expressions: `x or y` (returns `x` if x is true, `y`\n",
    "  otherwise)\n",
    "* assignment expressions: whereas assignment (`x = y`) is a statement that\n",
    "    yields no value, assignment expressions using the \"walrus\" operator `:=`\n",
    "    both yield and assign an expression (`x := y` returns `y`, in addition to\n",
    "    assigning it)\n",
    "* conditional expressions (aka ternary operator) `x if condition else y`\n",
    "  (returns either `x` or `y`)\n",
    "* lambda expressions: `lambda x: x**2` (returns a function object)\n",
    "\n",
    "Note: neither `and` nor `or` restrict the value and type they return to\n",
    "False and True, but rather return the last evaluated argument. This is\n",
    "sometimes useful, e.g., if `s` is a string that should be replaced by a default\n",
    "value if it is empty, the expression `s or 'foo'` yields the desired value.\n",
    "\n",
    "(Skipped: power expressions, await expressions in asynchronous coroutine\n",
    "functions)"
   ]
  },
  {
   "cell_type": "code",
   "execution_count": 2,
   "metadata": {},
   "outputs": [
    {
     "name": "stdout",
     "output_type": "stream",
     "text": [
      "<generator object testgen at 0x10f4bfcc0>\n",
      "<generator object <genexpr> at 0x10f6fe670>\n"
     ]
    }
   ],
   "source": [
    "def testgen():\n",
    "    yield None\n",
    "\n",
    "print(testgen())\n",
    "print(x for x in range(0))"
   ]
  },
  {
   "attachments": {},
   "cell_type": "markdown",
   "metadata": {},
   "source": [
    "# Operators"
   ]
  },
  {
   "attachments": {},
   "cell_type": "markdown",
   "metadata": {},
   "source": [
    "## Assignment operators"
   ]
  },
  {
   "cell_type": "code",
   "execution_count": 3,
   "metadata": {},
   "outputs": [
    {
     "name": "stdout",
     "output_type": "stream",
     "text": [
      "[4, 5, 6, 7, 8]\n",
      "5   <class 'int'>\n",
      "4   <class 'int'>\n",
      "8   <class 'int'>\n",
      "4.0 <class 'float'>\n",
      "4   <class 'int'>\n",
      "1   <class 'int'>\n"
     ]
    }
   ],
   "source": [
    "# assignment (plus tuple unpacking, implicit grouping, iterable unpacking)\n",
    "a, b, c = 1, 2, 3       # a == int(1)\n",
    "foo = 1, 2, 3           # foo == tuple(1, 2, 3)\n",
    "*foo, bar = 1, 2, 3     # bar == list(2, 3)\n",
    "d, e, f, *almost_all_the_rest, g = range(1,10)\n",
    "print(almost_all_the_rest)  # [4, 5, 6, 7, 8]\n",
    "\n",
    "# augmented assignment (plus type coercion)\n",
    "c += 2;     print(str(c).ljust(3), type(c))  # 5\n",
    "c -= 1;     print(str(c).ljust(3), type(c))  # 4\n",
    "c *= 2;     print(str(c).ljust(3), type(c))  # 8\n",
    "c /= 2;     print(str(c).ljust(3), type(c))  # 4.0 - type coercion\n",
    "c = int(c); print(str(c).ljust(3), type(c))  # 4\n",
    "c //= 3;    print(str(c).ljust(3), type(c))  # 1 - floor division, no type coercion\n",
    "\n",
    "'''\n",
    "full list, from parser:\n",
    "augassign: ('+=' | '-=' | '*=' | '@=' | '/=' | '%=' | '&=' | '|=' | '^=' |\n",
    "            '<<=' | '>>=' | '**=' | '//=')\n",
    "'''; #semicolon avoids printing value of final statement"
   ]
  },
  {
   "attachments": {},
   "cell_type": "markdown",
   "metadata": {},
   "source": [
    "## Walrus operator\n",
    "\n",
    "Assignment *expressions* use the walrus `:=` operator to both yield and assign\n",
    "the value of an expression."
   ]
  },
  {
   "cell_type": "code",
   "execution_count": 4,
   "metadata": {},
   "outputs": [
    {
     "name": "stdout",
     "output_type": "stream",
     "text": [
      "oooooooo\n",
      "oooooooo\n"
     ]
    }
   ],
   "source": [
    "if (match := re.search('f(o+)b', 'foooooooobar')):\n",
    "    print(match.group(1))\n",
    "\n",
    "# is the same as:\n",
    "\n",
    "match = re.search('f(o+)b', 'foooooooobar')\n",
    "if match:\n",
    "    print(match.group(1))\n",
    "\n",
    "# especially useful in a long if .. elif chain"
   ]
  },
  {
   "attachments": {},
   "cell_type": "markdown",
   "metadata": {},
   "source": [
    "## Mathematical and bitwise operators\n",
    "from cpython/Grammar/python.gram"
   ]
  },
  {
   "cell_type": "code",
   "execution_count": 5,
   "metadata": {},
   "outputs": [
    {
     "name": "stdout",
     "output_type": "stream",
     "text": [
      "1\n",
      "-1\n",
      "-2\n",
      "0b1 -0b10\n"
     ]
    }
   ],
   "source": [
    "a = b = 1\n",
    "\n",
    "# Binary mathematical operators\n",
    "a + b  #Add\n",
    "a - b  #Sub\n",
    "a * b  #Mult\n",
    "a / b  #Div\n",
    "a // b #FloorDiv\n",
    "a ** b #Power\n",
    "a % b  #Mod\n",
    "#c @ d #matrix multiply (no builtin types have __matmul__ method, cf. NumPy)\n",
    "\n",
    "# Binary bitwise operators\n",
    "a | b  # bitwise OR\n",
    "a ^ b  # bitwise XOR\n",
    "a & b  # bitwise AND\n",
    "a << b # left shift\n",
    "a >> b # right shift\n",
    "\n",
    "# Unary operators\n",
    "print(+a) # unary Add\n",
    "print(-a) # unary Sub\n",
    "print(~a) # unary bitwise NOT (invert)\n",
    "print(bin(a), bin(~a))"
   ]
  },
  {
   "attachments": {},
   "cell_type": "markdown",
   "metadata": {},
   "source": [
    "## Comparison operators\n",
    "\n",
    "These all yield `True` or `False`, unless the corresponding dunder method for\n",
    "the object has been changed to return something fancier."
   ]
  },
  {
   "cell_type": "code",
   "execution_count": 6,
   "metadata": {},
   "outputs": [],
   "source": [
    "a = b = ''\n",
    "\n",
    "# value comparisons\n",
    "a < b   # a.__lt__(b)\n",
    "a > b   # a.__gt__(b)\n",
    "a <= b  # a.__le__(b)\n",
    "a >= b  # a.__ge__(b)\n",
    "a == b  # a.__eq__(b)\n",
    "a != b  # a.__ne__(b)\n",
    "\n",
    "# identity comparisons\n",
    "a is b      # these use id() to test if a and b are the same object\n",
    "a is not b  #   https://docs.python.org/3/library/functions.html#id\n",
    "\n",
    "# membership tests\n",
    "a in b      # a.__contains__(b), falling back to __iter__(), then __getitem__()\n",
    "a not in b; #   https://docs.python.org/3/reference/expressions.html#comparisons\n"
   ]
  },
  {
   "attachments": {},
   "cell_type": "markdown",
   "metadata": {},
   "source": [
    "## Coda\n",
    "\n",
    "Quotations not otherwise cited or linked are from the [Python 3\n",
    "documentation](https://docs.python.org/3/), Copyright 2001-2023, Python\n",
    "Software Foundation"
   ]
  }
 ],
 "metadata": {
  "kernelspec": {
   "display_name": "Python 3",
   "language": "python",
   "name": "python3"
  },
  "language_info": {
   "codemirror_mode": {
    "name": "ipython",
    "version": 3
   },
   "file_extension": ".py",
   "mimetype": "text/x-python",
   "name": "python",
   "nbconvert_exporter": "python",
   "pygments_lexer": "ipython3",
   "version": "3.11.2"
  },
  "orig_nbformat": 4
 },
 "nbformat": 4,
 "nbformat_minor": 2
}
